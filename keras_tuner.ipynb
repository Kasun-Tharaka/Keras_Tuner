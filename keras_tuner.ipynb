{
  "cells": [
    {
      "cell_type": "markdown",
      "metadata": {
        "id": "Tce3stUlHN0L"
      },
      "source": [
        "##### Copyright 2020 The TensorFlow Authors."
      ]
    },
    {
      "cell_type": "code",
      "execution_count": null,
      "metadata": {
        "cellView": "form",
        "id": "tuOe1ymfHZPu"
      },
      "outputs": [],
      "source": [
        "#@title Licensed under the Apache License, Version 2.0 (the \"License\");\n",
        "# you may not use this file except in compliance with the License.\n",
        "# You may obtain a copy of the License at\n",
        "#\n",
        "# https://www.apache.org/licenses/LICENSE-2.0\n",
        "#\n",
        "# Unless required by applicable law or agreed to in writing, software\n",
        "# distributed under the License is distributed on an \"AS IS\" BASIS,\n",
        "# WITHOUT WARRANTIES OR CONDITIONS OF ANY KIND, either express or implied.\n",
        "# See the License for the specific language governing permissions and\n",
        "# limitations under the License."
      ]
    },
    {
      "cell_type": "markdown",
      "metadata": {
        "id": "qFdPvlXBOdUN"
      },
      "source": [
        "# Introduction to the Keras Tuner"
      ]
    },
    {
      "cell_type": "markdown",
      "metadata": {
        "id": "MfBg1C5NB3X0"
      },
      "source": [
        "<table class=\"tfo-notebook-buttons\" align=\"left\">\n",
        "  <td>\n",
        "    <a target=\"_blank\" href=\"https://www.tensorflow.org/tutorials/keras/keras_tuner\"><img src=\"https://www.tensorflow.org/images/tf_logo_32px.png\" />View on TensorFlow.org</a>\n",
        "  </td>\n",
        "  <td>\n",
        "    <a target=\"_blank\" href=\"https://colab.research.google.com/github/tensorflow/docs/blob/master/site/en/tutorials/keras/keras_tuner.ipynb\"><img src=\"https://www.tensorflow.org/images/colab_logo_32px.png\" />Run in Google Colab</a>\n",
        "  </td>\n",
        "  <td>\n",
        "    <a target=\"_blank\" href=\"https://github.com/tensorflow/docs/blob/master/site/en/tutorials/keras/keras_tuner.ipynb\"><img src=\"https://www.tensorflow.org/images/GitHub-Mark-32px.png\" />View source on GitHub</a>\n",
        "  </td>\n",
        "  <td>\n",
        "    <a href=\"https://storage.googleapis.com/tensorflow_docs/docs/site/en/tutorials/keras/keras_tuner.ipynb\"><img src=\"https://www.tensorflow.org/images/download_logo_32px.png\" />Download notebook</a>\n",
        "  </td>\n",
        "</table>"
      ]
    },
    {
      "cell_type": "markdown",
      "metadata": {
        "id": "xHxb-dlhMIzW"
      },
      "source": [
        "## Overview\n",
        "\n",
        "The Keras Tuner is a library that helps you pick the optimal set of hyperparameters for your TensorFlow program. The process of selecting the right set of hyperparameters for your machine learning (ML) application is called *hyperparameter tuning* or *hypertuning*.\n",
        "\n",
        "Hyperparameters are the variables that govern the training process and the topology of an ML model. These variables remain constant over the training process and directly impact the performance of your ML program. Hyperparameters are of two types:\n",
        "1. **Model hyperparameters** which influence model selection such as the number and width of hidden layers\n",
        "2. **Algorithm hyperparameters** which influence the speed and quality of the learning algorithm such as the learning rate for Stochastic Gradient Descent (SGD) and the number of nearest neighbors for a k Nearest Neighbors (KNN) classifier\n",
        "\n",
        "In this tutorial, you will use the Keras Tuner to perform hypertuning for an image classification application."
      ]
    },
    {
      "cell_type": "markdown",
      "metadata": {
        "id": "MUXex9ctTuDB"
      },
      "source": [
        "## Setup"
      ]
    },
    {
      "cell_type": "code",
      "execution_count": null,
      "metadata": {
        "id": "IqR2PQG4ZaZ0"
      },
      "outputs": [],
      "source": [
        "import tensorflow as tf\n",
        "from tensorflow import keras"
      ]
    },
    {
      "cell_type": "markdown",
      "metadata": {
        "id": "g83Lwsy-Aq2_"
      },
      "source": [
        "Install and import the Keras Tuner."
      ]
    },
    {
      "cell_type": "code",
      "execution_count": null,
      "metadata": {
        "id": "hpMLpbt9jcO6",
        "outputId": "f28ab570-3e74-43bd-aee7-e1f047f4b3c7",
        "colab": {
          "base_uri": "https://localhost:8080/"
        }
      },
      "outputs": [
        {
          "output_type": "stream",
          "name": "stdout",
          "text": [
            "\u001b[K     |████████████████████████████████| 135 kB 4.7 MB/s \n",
            "\u001b[K     |████████████████████████████████| 1.6 MB 41.7 MB/s \n",
            "\u001b[?25h"
          ]
        }
      ],
      "source": [
        "!pip install -q -U keras-tuner"
      ]
    },
    {
      "cell_type": "code",
      "execution_count": null,
      "metadata": {
        "id": "_leAIdFKAxAD"
      },
      "outputs": [],
      "source": [
        "import keras_tuner as kt"
      ]
    },
    {
      "cell_type": "markdown",
      "metadata": {
        "id": "ReV_UXOgCZvx"
      },
      "source": [
        "## Download and prepare the dataset\n",
        "\n",
        "In this tutorial, you will use the Keras Tuner to find the best hyperparameters for a machine learning model that classifies images of clothing from the [Fashion MNIST dataset](https://github.com/zalandoresearch/fashion-mnist)."
      ]
    },
    {
      "cell_type": "markdown",
      "metadata": {
        "id": "HljH_ENLEdHa"
      },
      "source": [
        "Load the data."
      ]
    },
    {
      "cell_type": "code",
      "execution_count": null,
      "metadata": {
        "id": "OHlHs9Wj_PUM",
        "outputId": "aeded193-7290-4159-daa3-47a49b6b80e5",
        "colab": {
          "base_uri": "https://localhost:8080/"
        }
      },
      "outputs": [
        {
          "output_type": "stream",
          "name": "stdout",
          "text": [
            "Downloading data from https://storage.googleapis.com/tensorflow/tf-keras-datasets/train-labels-idx1-ubyte.gz\n",
            "32768/29515 [=================================] - 0s 0us/step\n",
            "40960/29515 [=========================================] - 0s 0us/step\n",
            "Downloading data from https://storage.googleapis.com/tensorflow/tf-keras-datasets/train-images-idx3-ubyte.gz\n",
            "26427392/26421880 [==============================] - 0s 0us/step\n",
            "26435584/26421880 [==============================] - 0s 0us/step\n",
            "Downloading data from https://storage.googleapis.com/tensorflow/tf-keras-datasets/t10k-labels-idx1-ubyte.gz\n",
            "16384/5148 [===============================================================================================] - 0s 0us/step\n",
            "Downloading data from https://storage.googleapis.com/tensorflow/tf-keras-datasets/t10k-images-idx3-ubyte.gz\n",
            "4423680/4422102 [==============================] - 0s 0us/step\n",
            "4431872/4422102 [==============================] - 0s 0us/step\n"
          ]
        }
      ],
      "source": [
        "(img_train, label_train), (img_test, label_test) = keras.datasets.fashion_mnist.load_data()"
      ]
    },
    {
      "cell_type": "code",
      "execution_count": null,
      "metadata": {
        "id": "bLVhXs3xrUD0"
      },
      "outputs": [],
      "source": [
        "# Normalize pixel values between 0 and 1\n",
        "img_train = img_train.astype('float32') / 255.0\n",
        "img_test = img_test.astype('float32') / 255.0"
      ]
    },
    {
      "cell_type": "markdown",
      "source": [],
      "metadata": {
        "id": "iJyIxlfL8KQP"
      }
    },
    {
      "cell_type": "markdown",
      "metadata": {
        "id": "K5YEL2H2Ax3e"
      },
      "source": [
        "## Define the model\n",
        "\n",
        "When you build a model for hypertuning, you also define the hyperparameter search space in addition to the model architecture. The model you set up for hypertuning is called a *hypermodel*.\n",
        "\n",
        "You can define a hypermodel through two approaches:\n",
        "\n",
        "* By using a model builder function\n",
        "* By subclassing the `HyperModel` class of the Keras Tuner API\n",
        "\n",
        "You can also use two pre-defined [HyperModel](https://keras.io/api/keras_tuner/hypermodels/) classes - [HyperXception](https://keras.io/api/keras_tuner/hypermodels/hyper_xception/) and [HyperResNet](https://keras.io/api/keras_tuner/hypermodels/hyper_resnet/) for computer vision applications.\n",
        "\n",
        "In this tutorial, you use a model builder function to define the image classification model. The model builder function returns a compiled model and uses hyperparameters you define inline to hypertune the model."
      ]
    },
    {
      "cell_type": "code",
      "execution_count": null,
      "metadata": {
        "id": "ZQKodC-jtsva"
      },
      "outputs": [],
      "source": [
        "def model_builder(hp):\n",
        "  model = keras.Sequential()\n",
        "  model.add(keras.layers.Flatten(input_shape=(28, 28)))\n",
        "\n",
        "  # Tune the number of units in the first Dense layer\n",
        "  # Choose an optimal value between 32-512\n",
        "  hp_units1 = hp.Int('units', min_value=32, max_value=512, step=32)\n",
        "  # Choose an optimal value between 32-256\n",
        "  hp_units2 = hp.Int('units', min_value=32, max_value=256, step=16)\n",
        "  model.add(keras.layers.Dense(units=hp_units1, activation='relu'))\n",
        "  model.add(keras.layers.Dropout(0.2))\n",
        "  model.add(keras.layers.Dense(units=hp_units2, activation='relu'))\n",
        "  model.add(keras.layers.Dropout(0.2))\n",
        "  model.add(keras.layers.Dense(10))\n",
        "\n",
        "  # Tune the learning rate for the optimizer\n",
        "  # Choose an optimal value from 0.01, 0.001, or 0.0001\n",
        "  hp_learning_rate = hp.Choice('learning_rate', values=[1e-2, 1e-3, 1e-4])\n",
        "\n",
        "  # add optimizer with changing the learning rate\n",
        "  model.compile(optimizer=keras.optimizers.Adam(learning_rate=hp_learning_rate),\n",
        "                loss=keras.losses.SparseCategoricalCrossentropy(from_logits=True),\n",
        "                metrics=['accuracy'])\n",
        "\n",
        "  return model"
      ]
    },
    {
      "cell_type": "markdown",
      "metadata": {
        "id": "0J1VYw4q3x0b"
      },
      "source": [
        "## Instantiate the tuner and perform hypertuning\n",
        "\n",
        "Instantiate the tuner to perform the hypertuning. The Keras Tuner has four tuners available - `RandomSearch`, `Hyperband`, `BayesianOptimization`, and `Sklearn`. In this tutorial, you use the [Hyperband](https://arxiv.org/pdf/1603.06560.pdf) tuner.\n",
        "\n",
        "To instantiate the Hyperband tuner, you must specify the hypermodel, the `objective` to optimize and the maximum number of epochs to train (`max_epochs`)."
      ]
    },
    {
      "cell_type": "code",
      "execution_count": null,
      "metadata": {
        "id": "oichQFly6Y46"
      },
      "outputs": [],
      "source": [
        "tuner = kt.Hyperband(model_builder,\n",
        "                     objective='val_accuracy',\n",
        "                     max_epochs=10,\n",
        "                     factor=3,\n",
        "                     directory='my_dir',\n",
        "                     project_name='intro_to_kt')"
      ]
    },
    {
      "cell_type": "markdown",
      "metadata": {
        "id": "VaIhhdKf9VtI"
      },
      "source": [
        "The Hyperband tuning algorithm uses adaptive resource allocation and early-stopping to quickly converge on a high-performing model. This is done using a sports championship style bracket. The algorithm trains a large number of models for a few epochs and carries forward only the top-performing half of models to the next round. Hyperband determines the number of models to train in a bracket by computing 1 + log<sub>`factor`</sub>(`max_epochs`) and rounding it up to the nearest integer."
      ]
    },
    {
      "cell_type": "markdown",
      "metadata": {
        "id": "cwhBdXx0Ekj8"
      },
      "source": [
        "Create a callback to stop training early after reaching a certain value for the validation loss."
      ]
    },
    {
      "cell_type": "code",
      "execution_count": null,
      "metadata": {
        "id": "WT9IkS9NEjLc"
      },
      "outputs": [],
      "source": [
        "stop_early = tf.keras.callbacks.EarlyStopping(monitor='val_loss', patience=5)"
      ]
    },
    {
      "cell_type": "code",
      "source": [],
      "metadata": {
        "id": "q_zck7z0PJ3O"
      },
      "execution_count": null,
      "outputs": []
    },
    {
      "cell_type": "markdown",
      "metadata": {
        "id": "UKghEo15Tduy"
      },
      "source": [
        "Run the hyperparameter search. The arguments for the search method are the same as those used for `tf.keras.model.fit` in addition to the callback above."
      ]
    },
    {
      "cell_type": "code",
      "execution_count": null,
      "metadata": {
        "id": "dSBQcTHF9cKt",
        "outputId": "d8dffda2-b14a-44ef-c46b-3fc487ad453a",
        "colab": {
          "base_uri": "https://localhost:8080/"
        }
      },
      "outputs": [
        {
          "output_type": "stream",
          "name": "stdout",
          "text": [
            "\n",
            "The hyperparameter search is complete. The optimal number of units in the first densely-connected\n",
            "layer is 128 and the optimal learning rate for the optimizer\n",
            "is 0.001.\n",
            "\n"
          ]
        }
      ],
      "source": [
        "tuner.search(img_train, label_train, epochs=50, validation_split=0.2, callbacks=[stop_early])\n",
        "\n",
        "# Get the optimal hyperparameters\n",
        "best_hps=tuner.get_best_hyperparameters(num_trials=1)[0]\n",
        "\n",
        "print(f\"\"\"\n",
        "The hyperparameter search is complete. The optimal number of units in the first densely-connected\n",
        "layer is {best_hps.get('units')} and the optimal learning rate for the optimizer\n",
        "is {best_hps.get('learning_rate')}.\n",
        "\"\"\")"
      ]
    },
    {
      "cell_type": "markdown",
      "metadata": {
        "id": "Lak_ylf88xBv"
      },
      "source": [
        "## Train the model\n",
        "\n",
        "Find the optimal number of epochs to train the model with the hyperparameters obtained from the search."
      ]
    },
    {
      "cell_type": "code",
      "execution_count": null,
      "metadata": {
        "id": "McO82AXOuxXh",
        "outputId": "2a41075b-933b-44b6-ae9c-f69c93800cbf",
        "colab": {
          "base_uri": "https://localhost:8080/"
        }
      },
      "outputs": [
        {
          "output_type": "stream",
          "name": "stdout",
          "text": [
            "Epoch 1/50\n",
            "1500/1500 [==============================] - 5s 3ms/step - loss: 0.5751 - accuracy: 0.7937 - val_loss: 0.4320 - val_accuracy: 0.8420\n",
            "Epoch 2/50\n",
            "1500/1500 [==============================] - 4s 3ms/step - loss: 0.4259 - accuracy: 0.8444 - val_loss: 0.3923 - val_accuracy: 0.8490\n",
            "Epoch 3/50\n",
            "1500/1500 [==============================] - 4s 3ms/step - loss: 0.3873 - accuracy: 0.8576 - val_loss: 0.3614 - val_accuracy: 0.8717\n",
            "Epoch 4/50\n",
            "1500/1500 [==============================] - 4s 3ms/step - loss: 0.3688 - accuracy: 0.8646 - val_loss: 0.3718 - val_accuracy: 0.8658\n",
            "Epoch 5/50\n",
            "1500/1500 [==============================] - 4s 3ms/step - loss: 0.3504 - accuracy: 0.8714 - val_loss: 0.3441 - val_accuracy: 0.8783\n",
            "Epoch 6/50\n",
            "1500/1500 [==============================] - 4s 3ms/step - loss: 0.3356 - accuracy: 0.8772 - val_loss: 0.3409 - val_accuracy: 0.8781\n",
            "Epoch 7/50\n",
            "1500/1500 [==============================] - 4s 3ms/step - loss: 0.3276 - accuracy: 0.8772 - val_loss: 0.3377 - val_accuracy: 0.8767\n",
            "Epoch 8/50\n",
            "1500/1500 [==============================] - 4s 3ms/step - loss: 0.3162 - accuracy: 0.8831 - val_loss: 0.3246 - val_accuracy: 0.8850\n",
            "Epoch 9/50\n",
            "1500/1500 [==============================] - 4s 3ms/step - loss: 0.3127 - accuracy: 0.8827 - val_loss: 0.3307 - val_accuracy: 0.8829\n",
            "Epoch 10/50\n",
            "1500/1500 [==============================] - 4s 3ms/step - loss: 0.3005 - accuracy: 0.8882 - val_loss: 0.3310 - val_accuracy: 0.8795\n",
            "Epoch 11/50\n",
            "1500/1500 [==============================] - 4s 3ms/step - loss: 0.2935 - accuracy: 0.8898 - val_loss: 0.3134 - val_accuracy: 0.8863\n",
            "Epoch 12/50\n",
            "1500/1500 [==============================] - 4s 3ms/step - loss: 0.2903 - accuracy: 0.8921 - val_loss: 0.3212 - val_accuracy: 0.8835\n",
            "Epoch 13/50\n",
            "1500/1500 [==============================] - 4s 3ms/step - loss: 0.2843 - accuracy: 0.8923 - val_loss: 0.3398 - val_accuracy: 0.8831\n",
            "Epoch 14/50\n",
            "1500/1500 [==============================] - 4s 3ms/step - loss: 0.2812 - accuracy: 0.8943 - val_loss: 0.3362 - val_accuracy: 0.8831\n",
            "Epoch 15/50\n",
            "1500/1500 [==============================] - 4s 3ms/step - loss: 0.2730 - accuracy: 0.8976 - val_loss: 0.3175 - val_accuracy: 0.8873\n",
            "Epoch 16/50\n",
            "1500/1500 [==============================] - 4s 3ms/step - loss: 0.2709 - accuracy: 0.8980 - val_loss: 0.3198 - val_accuracy: 0.8852\n",
            "Epoch 17/50\n",
            "1500/1500 [==============================] - 4s 3ms/step - loss: 0.2681 - accuracy: 0.9001 - val_loss: 0.3325 - val_accuracy: 0.8854\n",
            "Epoch 18/50\n",
            "1500/1500 [==============================] - 5s 3ms/step - loss: 0.2656 - accuracy: 0.8998 - val_loss: 0.3192 - val_accuracy: 0.8899\n",
            "Epoch 19/50\n",
            "1500/1500 [==============================] - 4s 3ms/step - loss: 0.2602 - accuracy: 0.9016 - val_loss: 0.3224 - val_accuracy: 0.8890\n",
            "Epoch 20/50\n",
            "1500/1500 [==============================] - 4s 3ms/step - loss: 0.2542 - accuracy: 0.9034 - val_loss: 0.3161 - val_accuracy: 0.8907\n",
            "Epoch 21/50\n",
            "1500/1500 [==============================] - 4s 3ms/step - loss: 0.2495 - accuracy: 0.9052 - val_loss: 0.3216 - val_accuracy: 0.8898\n",
            "Epoch 22/50\n",
            "1500/1500 [==============================] - 4s 3ms/step - loss: 0.2490 - accuracy: 0.9056 - val_loss: 0.3240 - val_accuracy: 0.8892\n",
            "Epoch 23/50\n",
            "1500/1500 [==============================] - 4s 3ms/step - loss: 0.2456 - accuracy: 0.9065 - val_loss: 0.3176 - val_accuracy: 0.8900\n",
            "Epoch 24/50\n",
            "1500/1500 [==============================] - 4s 3ms/step - loss: 0.2432 - accuracy: 0.9081 - val_loss: 0.3157 - val_accuracy: 0.8913\n",
            "Epoch 25/50\n",
            "1500/1500 [==============================] - 4s 3ms/step - loss: 0.2432 - accuracy: 0.9081 - val_loss: 0.3316 - val_accuracy: 0.8857\n",
            "Epoch 26/50\n",
            "1500/1500 [==============================] - 4s 3ms/step - loss: 0.2355 - accuracy: 0.9110 - val_loss: 0.3182 - val_accuracy: 0.8922\n",
            "Epoch 27/50\n",
            "1500/1500 [==============================] - 4s 3ms/step - loss: 0.2383 - accuracy: 0.9105 - val_loss: 0.3235 - val_accuracy: 0.8887\n",
            "Epoch 28/50\n",
            "1500/1500 [==============================] - 4s 3ms/step - loss: 0.2353 - accuracy: 0.9113 - val_loss: 0.3352 - val_accuracy: 0.8862\n",
            "Epoch 29/50\n",
            "1500/1500 [==============================] - 4s 3ms/step - loss: 0.2329 - accuracy: 0.9121 - val_loss: 0.3359 - val_accuracy: 0.8912\n",
            "Epoch 30/50\n",
            "1500/1500 [==============================] - 4s 3ms/step - loss: 0.2306 - accuracy: 0.9134 - val_loss: 0.3294 - val_accuracy: 0.8898\n",
            "Epoch 31/50\n",
            "1500/1500 [==============================] - 4s 3ms/step - loss: 0.2270 - accuracy: 0.9140 - val_loss: 0.3407 - val_accuracy: 0.8873\n",
            "Epoch 32/50\n",
            "1500/1500 [==============================] - 4s 3ms/step - loss: 0.2297 - accuracy: 0.9132 - val_loss: 0.3319 - val_accuracy: 0.8921\n",
            "Epoch 33/50\n",
            "1500/1500 [==============================] - 4s 3ms/step - loss: 0.2229 - accuracy: 0.9154 - val_loss: 0.3531 - val_accuracy: 0.8857\n",
            "Epoch 34/50\n",
            "1500/1500 [==============================] - 4s 3ms/step - loss: 0.2212 - accuracy: 0.9153 - val_loss: 0.3345 - val_accuracy: 0.8941\n",
            "Epoch 35/50\n",
            "1500/1500 [==============================] - 4s 3ms/step - loss: 0.2200 - accuracy: 0.9181 - val_loss: 0.3363 - val_accuracy: 0.8930\n",
            "Epoch 36/50\n",
            "1500/1500 [==============================] - 4s 3ms/step - loss: 0.2176 - accuracy: 0.9172 - val_loss: 0.3240 - val_accuracy: 0.8957\n",
            "Epoch 37/50\n",
            "1500/1500 [==============================] - 4s 3ms/step - loss: 0.2191 - accuracy: 0.9164 - val_loss: 0.3460 - val_accuracy: 0.8838\n",
            "Epoch 38/50\n",
            "1500/1500 [==============================] - 4s 3ms/step - loss: 0.2144 - accuracy: 0.9192 - val_loss: 0.3433 - val_accuracy: 0.8927\n",
            "Epoch 39/50\n",
            "1500/1500 [==============================] - 4s 3ms/step - loss: 0.2116 - accuracy: 0.9207 - val_loss: 0.3285 - val_accuracy: 0.8956\n",
            "Epoch 40/50\n",
            "1500/1500 [==============================] - 4s 3ms/step - loss: 0.2135 - accuracy: 0.9201 - val_loss: 0.3346 - val_accuracy: 0.8928\n",
            "Epoch 41/50\n",
            "1500/1500 [==============================] - 4s 3ms/step - loss: 0.2090 - accuracy: 0.9212 - val_loss: 0.3262 - val_accuracy: 0.8961\n",
            "Epoch 42/50\n",
            "1500/1500 [==============================] - 4s 3ms/step - loss: 0.2070 - accuracy: 0.9208 - val_loss: 0.3491 - val_accuracy: 0.8932\n",
            "Epoch 43/50\n",
            "1500/1500 [==============================] - 4s 3ms/step - loss: 0.2094 - accuracy: 0.9206 - val_loss: 0.3316 - val_accuracy: 0.8946\n",
            "Epoch 44/50\n",
            "1500/1500 [==============================] - 4s 3ms/step - loss: 0.2046 - accuracy: 0.9231 - val_loss: 0.3356 - val_accuracy: 0.8957\n",
            "Epoch 45/50\n",
            "1500/1500 [==============================] - 4s 3ms/step - loss: 0.2051 - accuracy: 0.9223 - val_loss: 0.3395 - val_accuracy: 0.8944\n",
            "Epoch 46/50\n",
            "1500/1500 [==============================] - 4s 3ms/step - loss: 0.2062 - accuracy: 0.9229 - val_loss: 0.3572 - val_accuracy: 0.8923\n",
            "Epoch 47/50\n",
            "1500/1500 [==============================] - 4s 3ms/step - loss: 0.2008 - accuracy: 0.9245 - val_loss: 0.3484 - val_accuracy: 0.8928\n",
            "Epoch 48/50\n",
            "1500/1500 [==============================] - 4s 3ms/step - loss: 0.2012 - accuracy: 0.9239 - val_loss: 0.3484 - val_accuracy: 0.8930\n",
            "Epoch 49/50\n",
            "1500/1500 [==============================] - 4s 3ms/step - loss: 0.2024 - accuracy: 0.9226 - val_loss: 0.3459 - val_accuracy: 0.8923\n",
            "Epoch 50/50\n",
            "1500/1500 [==============================] - 4s 3ms/step - loss: 0.1985 - accuracy: 0.9246 - val_loss: 0.3632 - val_accuracy: 0.8915\n",
            "Best epoch: 41\n"
          ]
        }
      ],
      "source": [
        "# Build the model with the optimal hyperparameters and train it on the data for 50 epochs\n",
        "model = tuner.hypermodel.build(best_hps)\n",
        "history = model.fit(img_train, label_train, epochs=50, validation_split=0.2)\n",
        "\n",
        "val_acc_per_epoch = history.history['val_accuracy']\n",
        "best_epoch = val_acc_per_epoch.index(max(val_acc_per_epoch)) + 1\n",
        "print('Best epoch: %d' % (best_epoch,))"
      ]
    },
    {
      "cell_type": "markdown",
      "metadata": {
        "id": "uOTSirSTI3Gp"
      },
      "source": [
        "Re-instantiate the hypermodel and train it with the optimal number of epochs from above."
      ]
    },
    {
      "cell_type": "code",
      "execution_count": null,
      "metadata": {
        "id": "NoiPUEHmMhCe",
        "outputId": "1997b7fa-a134-43e4-bfce-c0aa24208d4c",
        "colab": {
          "base_uri": "https://localhost:8080/"
        }
      },
      "outputs": [
        {
          "output_type": "stream",
          "name": "stdout",
          "text": [
            "Epoch 1/41\n",
            "1500/1500 [==============================] - 5s 3ms/step - loss: 0.5746 - accuracy: 0.7930 - val_loss: 0.3977 - val_accuracy: 0.8529\n",
            "Epoch 2/41\n",
            "1500/1500 [==============================] - 4s 3ms/step - loss: 0.4256 - accuracy: 0.8447 - val_loss: 0.3825 - val_accuracy: 0.8581\n",
            "Epoch 3/41\n",
            "1500/1500 [==============================] - 5s 3ms/step - loss: 0.3925 - accuracy: 0.8567 - val_loss: 0.3612 - val_accuracy: 0.8664\n",
            "Epoch 4/41\n",
            "1500/1500 [==============================] - 5s 3ms/step - loss: 0.3695 - accuracy: 0.8645 - val_loss: 0.3416 - val_accuracy: 0.8756\n",
            "Epoch 5/41\n",
            "1500/1500 [==============================] - 5s 3ms/step - loss: 0.3559 - accuracy: 0.8687 - val_loss: 0.3610 - val_accuracy: 0.8634\n",
            "Epoch 6/41\n",
            "1500/1500 [==============================] - 5s 3ms/step - loss: 0.3404 - accuracy: 0.8735 - val_loss: 0.3403 - val_accuracy: 0.8693\n",
            "Epoch 7/41\n",
            "1500/1500 [==============================] - 5s 3ms/step - loss: 0.3298 - accuracy: 0.8773 - val_loss: 0.3148 - val_accuracy: 0.8827\n",
            "Epoch 8/41\n",
            "1500/1500 [==============================] - 5s 3ms/step - loss: 0.3212 - accuracy: 0.8804 - val_loss: 0.3283 - val_accuracy: 0.8790\n",
            "Epoch 9/41\n",
            "1500/1500 [==============================] - 5s 3ms/step - loss: 0.3120 - accuracy: 0.8851 - val_loss: 0.3257 - val_accuracy: 0.8793\n",
            "Epoch 10/41\n",
            "1500/1500 [==============================] - 5s 3ms/step - loss: 0.3071 - accuracy: 0.8849 - val_loss: 0.3313 - val_accuracy: 0.8800\n",
            "Epoch 11/41\n",
            "1500/1500 [==============================] - 5s 3ms/step - loss: 0.2978 - accuracy: 0.8882 - val_loss: 0.3289 - val_accuracy: 0.8824\n",
            "Epoch 12/41\n",
            "1500/1500 [==============================] - 4s 3ms/step - loss: 0.2935 - accuracy: 0.8911 - val_loss: 0.3120 - val_accuracy: 0.8859\n",
            "Epoch 13/41\n",
            "1500/1500 [==============================] - 5s 3ms/step - loss: 0.2868 - accuracy: 0.8921 - val_loss: 0.3159 - val_accuracy: 0.8853\n",
            "Epoch 14/41\n",
            "1500/1500 [==============================] - 5s 3ms/step - loss: 0.2825 - accuracy: 0.8926 - val_loss: 0.3177 - val_accuracy: 0.8863\n",
            "Epoch 15/41\n",
            "1500/1500 [==============================] - 4s 3ms/step - loss: 0.2811 - accuracy: 0.8937 - val_loss: 0.3138 - val_accuracy: 0.8877\n",
            "Epoch 16/41\n",
            "1500/1500 [==============================] - 5s 3ms/step - loss: 0.2732 - accuracy: 0.8968 - val_loss: 0.3245 - val_accuracy: 0.8840\n",
            "Epoch 17/41\n",
            "1500/1500 [==============================] - 5s 3ms/step - loss: 0.2697 - accuracy: 0.8986 - val_loss: 0.3211 - val_accuracy: 0.8816\n",
            "Epoch 18/41\n",
            "1500/1500 [==============================] - 5s 3ms/step - loss: 0.2647 - accuracy: 0.9005 - val_loss: 0.3067 - val_accuracy: 0.8889\n",
            "Epoch 19/41\n",
            "1500/1500 [==============================] - 4s 3ms/step - loss: 0.2625 - accuracy: 0.9016 - val_loss: 0.3147 - val_accuracy: 0.8901\n",
            "Epoch 20/41\n",
            "1500/1500 [==============================] - 4s 3ms/step - loss: 0.2581 - accuracy: 0.9032 - val_loss: 0.3152 - val_accuracy: 0.8848\n",
            "Epoch 21/41\n",
            "1500/1500 [==============================] - 4s 3ms/step - loss: 0.2567 - accuracy: 0.9028 - val_loss: 0.3121 - val_accuracy: 0.8932\n",
            "Epoch 22/41\n",
            "1500/1500 [==============================] - 4s 3ms/step - loss: 0.2537 - accuracy: 0.9035 - val_loss: 0.3195 - val_accuracy: 0.8898\n",
            "Epoch 23/41\n",
            "1500/1500 [==============================] - 4s 3ms/step - loss: 0.2513 - accuracy: 0.9054 - val_loss: 0.3163 - val_accuracy: 0.8910\n",
            "Epoch 24/41\n",
            "1500/1500 [==============================] - 4s 3ms/step - loss: 0.2444 - accuracy: 0.9081 - val_loss: 0.3252 - val_accuracy: 0.8908\n",
            "Epoch 25/41\n",
            "1500/1500 [==============================] - 4s 3ms/step - loss: 0.2461 - accuracy: 0.9089 - val_loss: 0.3069 - val_accuracy: 0.8917\n",
            "Epoch 26/41\n",
            "1500/1500 [==============================] - 4s 3ms/step - loss: 0.2452 - accuracy: 0.9075 - val_loss: 0.3228 - val_accuracy: 0.8879\n",
            "Epoch 27/41\n",
            "1500/1500 [==============================] - 4s 3ms/step - loss: 0.2388 - accuracy: 0.9089 - val_loss: 0.3327 - val_accuracy: 0.8908\n",
            "Epoch 28/41\n",
            "1500/1500 [==============================] - 4s 3ms/step - loss: 0.2374 - accuracy: 0.9101 - val_loss: 0.3333 - val_accuracy: 0.8898\n",
            "Epoch 29/41\n",
            "1500/1500 [==============================] - 4s 3ms/step - loss: 0.2344 - accuracy: 0.9096 - val_loss: 0.3322 - val_accuracy: 0.8906\n",
            "Epoch 30/41\n",
            "1500/1500 [==============================] - 4s 3ms/step - loss: 0.2384 - accuracy: 0.9099 - val_loss: 0.3187 - val_accuracy: 0.8888\n",
            "Epoch 31/41\n",
            "1500/1500 [==============================] - 4s 3ms/step - loss: 0.2333 - accuracy: 0.9112 - val_loss: 0.3196 - val_accuracy: 0.8932\n",
            "Epoch 32/41\n",
            "1500/1500 [==============================] - 4s 3ms/step - loss: 0.2284 - accuracy: 0.9122 - val_loss: 0.3401 - val_accuracy: 0.8938\n",
            "Epoch 33/41\n",
            "1500/1500 [==============================] - 4s 3ms/step - loss: 0.2310 - accuracy: 0.9133 - val_loss: 0.3308 - val_accuracy: 0.8897\n",
            "Epoch 34/41\n",
            "1500/1500 [==============================] - 4s 3ms/step - loss: 0.2276 - accuracy: 0.9124 - val_loss: 0.3285 - val_accuracy: 0.8907\n",
            "Epoch 35/41\n",
            "1500/1500 [==============================] - 4s 3ms/step - loss: 0.2233 - accuracy: 0.9169 - val_loss: 0.3413 - val_accuracy: 0.8871\n",
            "Epoch 36/41\n",
            "1500/1500 [==============================] - 5s 3ms/step - loss: 0.2240 - accuracy: 0.9144 - val_loss: 0.3265 - val_accuracy: 0.8928\n",
            "Epoch 37/41\n",
            "1500/1500 [==============================] - 4s 3ms/step - loss: 0.2192 - accuracy: 0.9171 - val_loss: 0.3374 - val_accuracy: 0.8888\n",
            "Epoch 38/41\n",
            "1500/1500 [==============================] - 4s 3ms/step - loss: 0.2223 - accuracy: 0.9167 - val_loss: 0.3347 - val_accuracy: 0.8940\n",
            "Epoch 39/41\n",
            "1500/1500 [==============================] - 4s 3ms/step - loss: 0.2212 - accuracy: 0.9165 - val_loss: 0.3378 - val_accuracy: 0.8916\n",
            "Epoch 40/41\n",
            "1500/1500 [==============================] - 4s 3ms/step - loss: 0.2209 - accuracy: 0.9179 - val_loss: 0.3408 - val_accuracy: 0.8918\n",
            "Epoch 41/41\n",
            "1500/1500 [==============================] - 4s 3ms/step - loss: 0.2156 - accuracy: 0.9180 - val_loss: 0.3221 - val_accuracy: 0.8943\n"
          ]
        },
        {
          "output_type": "execute_result",
          "data": {
            "text/plain": [
              "<keras.callbacks.History at 0x7fd962fd3710>"
            ]
          },
          "metadata": {},
          "execution_count": 22
        }
      ],
      "source": [
        "hypermodel = tuner.hypermodel.build(best_hps)\n",
        "\n",
        "# Retrain the model\n",
        "hypermodel.fit(img_train, label_train, epochs=best_epoch, validation_split=0.2)"
      ]
    },
    {
      "cell_type": "markdown",
      "metadata": {
        "id": "MqU5ZVAaag2v"
      },
      "source": [
        "To finish this tutorial, evaluate the hypermodel on the test data."
      ]
    },
    {
      "cell_type": "code",
      "execution_count": null,
      "metadata": {
        "id": "9E0BTp9Ealjb",
        "outputId": "7e754820-3af2-462c-ad1f-94f9b7d5bcf3",
        "colab": {
          "base_uri": "https://localhost:8080/"
        }
      },
      "outputs": [
        {
          "output_type": "stream",
          "name": "stdout",
          "text": [
            "313/313 [==============================] - 1s 3ms/step - loss: 0.3425 - accuracy: 0.8871\n",
            "[test loss, test accuracy]: [0.342533677816391, 0.8870999813079834]\n"
          ]
        }
      ],
      "source": [
        "eval_result = hypermodel.evaluate(img_test, label_test)\n",
        "print(\"[test loss, test accuracy]:\", eval_result)"
      ]
    },
    {
      "cell_type": "markdown",
      "metadata": {
        "id": "EQRpPHZsz-eC"
      },
      "source": [
        "The `my_dir/intro_to_kt` directory contains detailed logs and checkpoints for every trial (model configuration) run during the hyperparameter search. If you re-run the hyperparameter search, the Keras Tuner uses the existing state from these logs to resume the search. To disable this behavior, pass an additional `overwrite=True` argument while instantiating the tuner."
      ]
    },
    {
      "cell_type": "markdown",
      "metadata": {
        "id": "sKwLOzKpFGAj"
      },
      "source": [
        "## Summary\n",
        "\n",
        "In this tutorial, you learned how to use the Keras Tuner to tune hyperparameters for a model. To learn more about the Keras Tuner, check out these additional resources:\n",
        "\n",
        "* [Keras Tuner on the TensorFlow blog](https://blog.tensorflow.org/2020/01/hyperparameter-tuning-with-keras-tuner.html)\n",
        "* [Keras Tuner website](https://keras-team.github.io/keras-tuner/)\n",
        "\n",
        "Also check out the [HParams Dashboard](https://www.tensorflow.org/tensorboard/hyperparameter_tuning_with_hparams) in TensorBoard to interactively tune your model hyperparameters."
      ]
    }
  ],
  "metadata": {
    "accelerator": "GPU",
    "colab": {
      "collapsed_sections": [
        "Tce3stUlHN0L"
      ],
      "provenance": []
    },
    "kernelspec": {
      "display_name": "Python 3",
      "name": "python3"
    },
    "gpuClass": "standard"
  },
  "nbformat": 4,
  "nbformat_minor": 0
}